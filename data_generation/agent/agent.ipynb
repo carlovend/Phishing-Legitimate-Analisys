{
 "cells": [
  {
   "cell_type": "code",
   "execution_count": 5,
   "metadata": {},
   "outputs": [],
   "source": [
    "from langgraph.graph import StateGraph, END\n",
    "from typing import TypedDict, Annotated, List\n",
    "import operator\n",
    "from langchain_core.messages import AnyMessage, SystemMessage, HumanMessage, AIMessage, ChatMessage\n",
    "from typing import List, Annotated, TypedDict\n",
    "from langchain_openai import ChatOpenAI\n",
    "from dotenv import load_dotenv\n",
    "import pandas as pd\n",
    "import os\n",
    "import ast\n",
    "\n",
    "_ = load_dotenv()\n",
    "model = ChatOpenAI(model=\"gpt-4o\", temperature=0.2)\n"
   ]
  },
  {
   "cell_type": "code",
   "execution_count": 6,
   "metadata": {},
   "outputs": [
    {
     "ename": "FileNotFoundError",
     "evalue": "[Errno 2] No such file or directory: '/Users/leopoldotodisco/Desktop/progetto-SAD/Phishing-Legitimate-Analisys/Phishing_Legitimate_full.csv'",
     "output_type": "error",
     "traceback": [
      "\u001b[0;31m---------------------------------------------------------------------------\u001b[0m",
      "\u001b[0;31mFileNotFoundError\u001b[0m                         Traceback (most recent call last)",
      "Cell \u001b[0;32mIn[6], line 3\u001b[0m\n\u001b[1;32m      1\u001b[0m \u001b[38;5;28;01mimport\u001b[39;00m\u001b[38;5;250m \u001b[39m\u001b[38;5;21;01mpandas\u001b[39;00m\u001b[38;5;250m \u001b[39m\u001b[38;5;28;01mas\u001b[39;00m\u001b[38;5;250m \u001b[39m\u001b[38;5;21;01mpd\u001b[39;00m\n\u001b[0;32m----> 3\u001b[0m df \u001b[38;5;241m=\u001b[39m \u001b[43mpd\u001b[49m\u001b[38;5;241;43m.\u001b[39;49m\u001b[43mread_csv\u001b[49m\u001b[43m(\u001b[49m\u001b[38;5;124;43m'\u001b[39;49m\u001b[38;5;124;43m/Users/leopoldotodisco/Desktop/progetto-SAD/Phishing-Legitimate-Analisys/Phishing_Legitimate_full.csv\u001b[39;49m\u001b[38;5;124;43m'\u001b[39;49m\u001b[43m)\u001b[49m\n\u001b[1;32m      5\u001b[0m \u001b[38;5;28;01mfor\u001b[39;00m col \u001b[38;5;129;01min\u001b[39;00m df\u001b[38;5;241m.\u001b[39mcolumns:\n\u001b[1;32m      6\u001b[0m     min_val \u001b[38;5;241m=\u001b[39m df[col]\u001b[38;5;241m.\u001b[39mmin()\n",
      "File \u001b[0;32m~/Desktop/progetto-SAD/Phishing-Legitimate-Analisys/.venv/lib/python3.11/site-packages/pandas/io/parsers/readers.py:1026\u001b[0m, in \u001b[0;36mread_csv\u001b[0;34m(filepath_or_buffer, sep, delimiter, header, names, index_col, usecols, dtype, engine, converters, true_values, false_values, skipinitialspace, skiprows, skipfooter, nrows, na_values, keep_default_na, na_filter, verbose, skip_blank_lines, parse_dates, infer_datetime_format, keep_date_col, date_parser, date_format, dayfirst, cache_dates, iterator, chunksize, compression, thousands, decimal, lineterminator, quotechar, quoting, doublequote, escapechar, comment, encoding, encoding_errors, dialect, on_bad_lines, delim_whitespace, low_memory, memory_map, float_precision, storage_options, dtype_backend)\u001b[0m\n\u001b[1;32m   1013\u001b[0m kwds_defaults \u001b[38;5;241m=\u001b[39m _refine_defaults_read(\n\u001b[1;32m   1014\u001b[0m     dialect,\n\u001b[1;32m   1015\u001b[0m     delimiter,\n\u001b[0;32m   (...)\u001b[0m\n\u001b[1;32m   1022\u001b[0m     dtype_backend\u001b[38;5;241m=\u001b[39mdtype_backend,\n\u001b[1;32m   1023\u001b[0m )\n\u001b[1;32m   1024\u001b[0m kwds\u001b[38;5;241m.\u001b[39mupdate(kwds_defaults)\n\u001b[0;32m-> 1026\u001b[0m \u001b[38;5;28;01mreturn\u001b[39;00m \u001b[43m_read\u001b[49m\u001b[43m(\u001b[49m\u001b[43mfilepath_or_buffer\u001b[49m\u001b[43m,\u001b[49m\u001b[43m \u001b[49m\u001b[43mkwds\u001b[49m\u001b[43m)\u001b[49m\n",
      "File \u001b[0;32m~/Desktop/progetto-SAD/Phishing-Legitimate-Analisys/.venv/lib/python3.11/site-packages/pandas/io/parsers/readers.py:620\u001b[0m, in \u001b[0;36m_read\u001b[0;34m(filepath_or_buffer, kwds)\u001b[0m\n\u001b[1;32m    617\u001b[0m _validate_names(kwds\u001b[38;5;241m.\u001b[39mget(\u001b[38;5;124m\"\u001b[39m\u001b[38;5;124mnames\u001b[39m\u001b[38;5;124m\"\u001b[39m, \u001b[38;5;28;01mNone\u001b[39;00m))\n\u001b[1;32m    619\u001b[0m \u001b[38;5;66;03m# Create the parser.\u001b[39;00m\n\u001b[0;32m--> 620\u001b[0m parser \u001b[38;5;241m=\u001b[39m \u001b[43mTextFileReader\u001b[49m\u001b[43m(\u001b[49m\u001b[43mfilepath_or_buffer\u001b[49m\u001b[43m,\u001b[49m\u001b[43m \u001b[49m\u001b[38;5;241;43m*\u001b[39;49m\u001b[38;5;241;43m*\u001b[39;49m\u001b[43mkwds\u001b[49m\u001b[43m)\u001b[49m\n\u001b[1;32m    622\u001b[0m \u001b[38;5;28;01mif\u001b[39;00m chunksize \u001b[38;5;129;01mor\u001b[39;00m iterator:\n\u001b[1;32m    623\u001b[0m     \u001b[38;5;28;01mreturn\u001b[39;00m parser\n",
      "File \u001b[0;32m~/Desktop/progetto-SAD/Phishing-Legitimate-Analisys/.venv/lib/python3.11/site-packages/pandas/io/parsers/readers.py:1620\u001b[0m, in \u001b[0;36mTextFileReader.__init__\u001b[0;34m(self, f, engine, **kwds)\u001b[0m\n\u001b[1;32m   1617\u001b[0m     \u001b[38;5;28mself\u001b[39m\u001b[38;5;241m.\u001b[39moptions[\u001b[38;5;124m\"\u001b[39m\u001b[38;5;124mhas_index_names\u001b[39m\u001b[38;5;124m\"\u001b[39m] \u001b[38;5;241m=\u001b[39m kwds[\u001b[38;5;124m\"\u001b[39m\u001b[38;5;124mhas_index_names\u001b[39m\u001b[38;5;124m\"\u001b[39m]\n\u001b[1;32m   1619\u001b[0m \u001b[38;5;28mself\u001b[39m\u001b[38;5;241m.\u001b[39mhandles: IOHandles \u001b[38;5;241m|\u001b[39m \u001b[38;5;28;01mNone\u001b[39;00m \u001b[38;5;241m=\u001b[39m \u001b[38;5;28;01mNone\u001b[39;00m\n\u001b[0;32m-> 1620\u001b[0m \u001b[38;5;28mself\u001b[39m\u001b[38;5;241m.\u001b[39m_engine \u001b[38;5;241m=\u001b[39m \u001b[38;5;28;43mself\u001b[39;49m\u001b[38;5;241;43m.\u001b[39;49m\u001b[43m_make_engine\u001b[49m\u001b[43m(\u001b[49m\u001b[43mf\u001b[49m\u001b[43m,\u001b[49m\u001b[43m \u001b[49m\u001b[38;5;28;43mself\u001b[39;49m\u001b[38;5;241;43m.\u001b[39;49m\u001b[43mengine\u001b[49m\u001b[43m)\u001b[49m\n",
      "File \u001b[0;32m~/Desktop/progetto-SAD/Phishing-Legitimate-Analisys/.venv/lib/python3.11/site-packages/pandas/io/parsers/readers.py:1880\u001b[0m, in \u001b[0;36mTextFileReader._make_engine\u001b[0;34m(self, f, engine)\u001b[0m\n\u001b[1;32m   1878\u001b[0m     \u001b[38;5;28;01mif\u001b[39;00m \u001b[38;5;124m\"\u001b[39m\u001b[38;5;124mb\u001b[39m\u001b[38;5;124m\"\u001b[39m \u001b[38;5;129;01mnot\u001b[39;00m \u001b[38;5;129;01min\u001b[39;00m mode:\n\u001b[1;32m   1879\u001b[0m         mode \u001b[38;5;241m+\u001b[39m\u001b[38;5;241m=\u001b[39m \u001b[38;5;124m\"\u001b[39m\u001b[38;5;124mb\u001b[39m\u001b[38;5;124m\"\u001b[39m\n\u001b[0;32m-> 1880\u001b[0m \u001b[38;5;28mself\u001b[39m\u001b[38;5;241m.\u001b[39mhandles \u001b[38;5;241m=\u001b[39m \u001b[43mget_handle\u001b[49m\u001b[43m(\u001b[49m\n\u001b[1;32m   1881\u001b[0m \u001b[43m    \u001b[49m\u001b[43mf\u001b[49m\u001b[43m,\u001b[49m\n\u001b[1;32m   1882\u001b[0m \u001b[43m    \u001b[49m\u001b[43mmode\u001b[49m\u001b[43m,\u001b[49m\n\u001b[1;32m   1883\u001b[0m \u001b[43m    \u001b[49m\u001b[43mencoding\u001b[49m\u001b[38;5;241;43m=\u001b[39;49m\u001b[38;5;28;43mself\u001b[39;49m\u001b[38;5;241;43m.\u001b[39;49m\u001b[43moptions\u001b[49m\u001b[38;5;241;43m.\u001b[39;49m\u001b[43mget\u001b[49m\u001b[43m(\u001b[49m\u001b[38;5;124;43m\"\u001b[39;49m\u001b[38;5;124;43mencoding\u001b[39;49m\u001b[38;5;124;43m\"\u001b[39;49m\u001b[43m,\u001b[49m\u001b[43m \u001b[49m\u001b[38;5;28;43;01mNone\u001b[39;49;00m\u001b[43m)\u001b[49m\u001b[43m,\u001b[49m\n\u001b[1;32m   1884\u001b[0m \u001b[43m    \u001b[49m\u001b[43mcompression\u001b[49m\u001b[38;5;241;43m=\u001b[39;49m\u001b[38;5;28;43mself\u001b[39;49m\u001b[38;5;241;43m.\u001b[39;49m\u001b[43moptions\u001b[49m\u001b[38;5;241;43m.\u001b[39;49m\u001b[43mget\u001b[49m\u001b[43m(\u001b[49m\u001b[38;5;124;43m\"\u001b[39;49m\u001b[38;5;124;43mcompression\u001b[39;49m\u001b[38;5;124;43m\"\u001b[39;49m\u001b[43m,\u001b[49m\u001b[43m \u001b[49m\u001b[38;5;28;43;01mNone\u001b[39;49;00m\u001b[43m)\u001b[49m\u001b[43m,\u001b[49m\n\u001b[1;32m   1885\u001b[0m \u001b[43m    \u001b[49m\u001b[43mmemory_map\u001b[49m\u001b[38;5;241;43m=\u001b[39;49m\u001b[38;5;28;43mself\u001b[39;49m\u001b[38;5;241;43m.\u001b[39;49m\u001b[43moptions\u001b[49m\u001b[38;5;241;43m.\u001b[39;49m\u001b[43mget\u001b[49m\u001b[43m(\u001b[49m\u001b[38;5;124;43m\"\u001b[39;49m\u001b[38;5;124;43mmemory_map\u001b[39;49m\u001b[38;5;124;43m\"\u001b[39;49m\u001b[43m,\u001b[49m\u001b[43m \u001b[49m\u001b[38;5;28;43;01mFalse\u001b[39;49;00m\u001b[43m)\u001b[49m\u001b[43m,\u001b[49m\n\u001b[1;32m   1886\u001b[0m \u001b[43m    \u001b[49m\u001b[43mis_text\u001b[49m\u001b[38;5;241;43m=\u001b[39;49m\u001b[43mis_text\u001b[49m\u001b[43m,\u001b[49m\n\u001b[1;32m   1887\u001b[0m \u001b[43m    \u001b[49m\u001b[43merrors\u001b[49m\u001b[38;5;241;43m=\u001b[39;49m\u001b[38;5;28;43mself\u001b[39;49m\u001b[38;5;241;43m.\u001b[39;49m\u001b[43moptions\u001b[49m\u001b[38;5;241;43m.\u001b[39;49m\u001b[43mget\u001b[49m\u001b[43m(\u001b[49m\u001b[38;5;124;43m\"\u001b[39;49m\u001b[38;5;124;43mencoding_errors\u001b[39;49m\u001b[38;5;124;43m\"\u001b[39;49m\u001b[43m,\u001b[49m\u001b[43m \u001b[49m\u001b[38;5;124;43m\"\u001b[39;49m\u001b[38;5;124;43mstrict\u001b[39;49m\u001b[38;5;124;43m\"\u001b[39;49m\u001b[43m)\u001b[49m\u001b[43m,\u001b[49m\n\u001b[1;32m   1888\u001b[0m \u001b[43m    \u001b[49m\u001b[43mstorage_options\u001b[49m\u001b[38;5;241;43m=\u001b[39;49m\u001b[38;5;28;43mself\u001b[39;49m\u001b[38;5;241;43m.\u001b[39;49m\u001b[43moptions\u001b[49m\u001b[38;5;241;43m.\u001b[39;49m\u001b[43mget\u001b[49m\u001b[43m(\u001b[49m\u001b[38;5;124;43m\"\u001b[39;49m\u001b[38;5;124;43mstorage_options\u001b[39;49m\u001b[38;5;124;43m\"\u001b[39;49m\u001b[43m,\u001b[49m\u001b[43m \u001b[49m\u001b[38;5;28;43;01mNone\u001b[39;49;00m\u001b[43m)\u001b[49m\u001b[43m,\u001b[49m\n\u001b[1;32m   1889\u001b[0m \u001b[43m\u001b[49m\u001b[43m)\u001b[49m\n\u001b[1;32m   1890\u001b[0m \u001b[38;5;28;01massert\u001b[39;00m \u001b[38;5;28mself\u001b[39m\u001b[38;5;241m.\u001b[39mhandles \u001b[38;5;129;01mis\u001b[39;00m \u001b[38;5;129;01mnot\u001b[39;00m \u001b[38;5;28;01mNone\u001b[39;00m\n\u001b[1;32m   1891\u001b[0m f \u001b[38;5;241m=\u001b[39m \u001b[38;5;28mself\u001b[39m\u001b[38;5;241m.\u001b[39mhandles\u001b[38;5;241m.\u001b[39mhandle\n",
      "File \u001b[0;32m~/Desktop/progetto-SAD/Phishing-Legitimate-Analisys/.venv/lib/python3.11/site-packages/pandas/io/common.py:873\u001b[0m, in \u001b[0;36mget_handle\u001b[0;34m(path_or_buf, mode, encoding, compression, memory_map, is_text, errors, storage_options)\u001b[0m\n\u001b[1;32m    868\u001b[0m \u001b[38;5;28;01melif\u001b[39;00m \u001b[38;5;28misinstance\u001b[39m(handle, \u001b[38;5;28mstr\u001b[39m):\n\u001b[1;32m    869\u001b[0m     \u001b[38;5;66;03m# Check whether the filename is to be opened in binary mode.\u001b[39;00m\n\u001b[1;32m    870\u001b[0m     \u001b[38;5;66;03m# Binary mode does not support 'encoding' and 'newline'.\u001b[39;00m\n\u001b[1;32m    871\u001b[0m     \u001b[38;5;28;01mif\u001b[39;00m ioargs\u001b[38;5;241m.\u001b[39mencoding \u001b[38;5;129;01mand\u001b[39;00m \u001b[38;5;124m\"\u001b[39m\u001b[38;5;124mb\u001b[39m\u001b[38;5;124m\"\u001b[39m \u001b[38;5;129;01mnot\u001b[39;00m \u001b[38;5;129;01min\u001b[39;00m ioargs\u001b[38;5;241m.\u001b[39mmode:\n\u001b[1;32m    872\u001b[0m         \u001b[38;5;66;03m# Encoding\u001b[39;00m\n\u001b[0;32m--> 873\u001b[0m         handle \u001b[38;5;241m=\u001b[39m \u001b[38;5;28;43mopen\u001b[39;49m\u001b[43m(\u001b[49m\n\u001b[1;32m    874\u001b[0m \u001b[43m            \u001b[49m\u001b[43mhandle\u001b[49m\u001b[43m,\u001b[49m\n\u001b[1;32m    875\u001b[0m \u001b[43m            \u001b[49m\u001b[43mioargs\u001b[49m\u001b[38;5;241;43m.\u001b[39;49m\u001b[43mmode\u001b[49m\u001b[43m,\u001b[49m\n\u001b[1;32m    876\u001b[0m \u001b[43m            \u001b[49m\u001b[43mencoding\u001b[49m\u001b[38;5;241;43m=\u001b[39;49m\u001b[43mioargs\u001b[49m\u001b[38;5;241;43m.\u001b[39;49m\u001b[43mencoding\u001b[49m\u001b[43m,\u001b[49m\n\u001b[1;32m    877\u001b[0m \u001b[43m            \u001b[49m\u001b[43merrors\u001b[49m\u001b[38;5;241;43m=\u001b[39;49m\u001b[43merrors\u001b[49m\u001b[43m,\u001b[49m\n\u001b[1;32m    878\u001b[0m \u001b[43m            \u001b[49m\u001b[43mnewline\u001b[49m\u001b[38;5;241;43m=\u001b[39;49m\u001b[38;5;124;43m\"\u001b[39;49m\u001b[38;5;124;43m\"\u001b[39;49m\u001b[43m,\u001b[49m\n\u001b[1;32m    879\u001b[0m \u001b[43m        \u001b[49m\u001b[43m)\u001b[49m\n\u001b[1;32m    880\u001b[0m     \u001b[38;5;28;01melse\u001b[39;00m:\n\u001b[1;32m    881\u001b[0m         \u001b[38;5;66;03m# Binary mode\u001b[39;00m\n\u001b[1;32m    882\u001b[0m         handle \u001b[38;5;241m=\u001b[39m \u001b[38;5;28mopen\u001b[39m(handle, ioargs\u001b[38;5;241m.\u001b[39mmode)\n",
      "\u001b[0;31mFileNotFoundError\u001b[0m: [Errno 2] No such file or directory: '/Users/leopoldotodisco/Desktop/progetto-SAD/Phishing-Legitimate-Analisys/Phishing_Legitimate_full.csv'"
     ]
    }
   ],
   "source": [
    "import pandas as pd\n",
    "\n",
    "df = pd.read_csv('/Users/leopoldotodisco/Desktop/progetto-SAD/Phishing-Legitimate-Analisys/codice_nuovo/Phishing_Legitimate_full.csv')\n",
    "\n",
    "for col in df.columns:\n",
    "    min_val = df[col].min()\n",
    "    max_val = df[col].max()\n",
    "    print(f'Colonna: {col} -> Min: {min_val}, Max: {max_val}')\n"
   ]
  },
  {
   "cell_type": "code",
   "execution_count": 85,
   "metadata": {},
   "outputs": [],
   "source": [
    "class AgentState(TypedDict):\n",
    "    messages: Annotated[list[dict], operator.add]\n",
    "    risultati_generati: dict\n",
    "    critica: str\n",
    "    max_revisions: int\n",
    "    revision_number: int"
   ]
  },
  {
   "cell_type": "code",
   "execution_count": 86,
   "metadata": {},
   "outputs": [],
   "source": [
    "expected_columns = {\n",
    "    \"id\": {\"type\": int, \"min\": 0, \"max\": None},\n",
    "    \"NumDots\": {\"type\": int, \"min\": 0, \"max\": None},\n",
    "    \"SubdomainLevel\": {\"type\": int, \"min\": 0, \"max\": None},\n",
    "    \"PathLevel\": {\"type\": int, \"min\": 0, \"max\": None},\n",
    "    \"UrlLength\": {\"type\": int, \"min\": 0, \"max\": None},\n",
    "    \"NumDash\": {\"type\": int, \"min\": 0, \"max\": None},\n",
    "    \"NumDashInHostname\": {\"type\": int, \"min\": 0, \"max\": None},\n",
    "    \"AtSymbol\": {\"type\": int, \"min\": 0, \"max\": 1},\n",
    "    \"TildeSymbol\": {\"type\": int, \"min\": 0, \"max\": 1},\n",
    "    \"NumUnderscore\": {\"type\": int, \"min\": 0, \"max\": None},\n",
    "    \"NumPercent\": {\"type\": int, \"min\": 0, \"max\": None},\n",
    "    \"NumQueryComponents\": {\"type\": int, \"min\": 0, \"max\": None},\n",
    "    \"NumAmpersand\": {\"type\": int, \"min\": 0, \"max\": None},\n",
    "    \"NumHash\": {\"type\": int, \"min\": 0, \"max\": None},\n",
    "    \"NumNumericChars\": {\"type\": int, \"min\": 0, \"max\": None},\n",
    "    \"NoHttps\": {\"type\": int, \"min\": 0, \"max\": 1},\n",
    "    \"RandomString\": {\"type\": int, \"min\": 0, \"max\": 1},\n",
    "    \"IpAddress\": {\"type\": int, \"min\": 0, \"max\": 1},\n",
    "    \"DomainInSubdomains\": {\"type\": int, \"min\": 0, \"max\": 1},\n",
    "    \"DomainInPaths\": {\"type\": int, \"min\": 0, \"max\": 1},\n",
    "    \"HttpsInHostname\": {\"type\": int, \"min\": 0, \"max\": 0},\n",
    "    \"HostnameLength\": {\"type\": int, \"min\": 0, \"max\": None},\n",
    "    \"PathLength\": {\"type\": int, \"min\": 0, \"max\": None},\n",
    "    \"QueryLength\": {\"type\": int, \"min\": 0, \"max\": None},\n",
    "    \"DoubleSlashInPath\": {\"type\": int, \"min\": 0, \"max\": 1},\n",
    "    \"NumSensitiveWords\": {\"type\": int, \"min\": 0, \"max\": None},\n",
    "    \"EmbeddedBrandName\": {\"type\": int, \"min\": 0, \"max\": 1},\n",
    "    \"PctExtHyperlinks\": {\"type\": float, \"min\": 0.0, \"max\": 1.0},\n",
    "    \"PctExtResourceUrls\": {\"type\": float, \"min\": 0.0, \"max\": 1.0},\n",
    "    \"ExtFavicon\": {\"type\": int, \"min\": 0, \"max\": 1},\n",
    "    \"InsecureForms\": {\"type\": int, \"min\": 0, \"max\": 1},\n",
    "    \"RelativeFormAction\": {\"type\": int, \"min\": 0, \"max\": 1},\n",
    "    \"ExtFormAction\": {\"type\": int, \"min\": 0, \"max\": 1},\n",
    "    \"AbnormalFormAction\": {\"type\": int, \"min\": 0, \"max\": 1},\n",
    "    \"PctNullSelfRedirectHyperlinks\": {\"type\": float, \"min\": 0.0, \"max\": 1.0},\n",
    "    \"FrequentDomainNameMismatch\": {\"type\": int, \"min\": 0, \"max\": 1},\n",
    "    \"FakeLinkInStatusBar\": {\"type\": int, \"min\": 0, \"max\": 1},\n",
    "    \"RightClickDisabled\": {\"type\": int, \"min\": 0, \"max\": 1},\n",
    "    \"PopUpWindow\": {\"type\": int, \"min\": 0, \"max\": 1},\n",
    "    \"SubmitInfoToEmail\": {\"type\": int, \"min\": 0, \"max\": 1},\n",
    "    \"IframeOrFrame\": {\"type\": int, \"min\": 0, \"max\": 1},\n",
    "    \"MissingTitle\": {\"type\": int, \"min\": 0, \"max\": 1},\n",
    "    \"ImagesOnlyInForm\": {\"type\": int, \"min\": 0, \"max\": 1},\n",
    "    \"SubdomainLevelRT\": {\"type\": int, \"min\": -1, \"max\": 1},\n",
    "    \"UrlLengthRT\": {\"type\": int, \"min\": -1, \"max\": 1},\n",
    "    \"PctExtResourceUrlsRT\": {\"type\": float, \"min\": -1, \"max\": 1.0},\n",
    "    \"AbnormalExtFormActionR\": {\"type\": int, \"min\": -1, \"max\": 1},\n",
    "    \"ExtMetaScriptLinkRT\": {\"type\": int, \"min\": -1, \"max\": 1},\n",
    "    \"PctExtNullSelfRedirectHyperlinksRT\": {\"type\": float, \"min\": -1, \"max\": 1},\n",
    "    \"CLASS_LABEL\": {\"type\": int, \"min\": 0, \"max\": 1},\n",
    "}"
   ]
  },
  {
   "cell_type": "code",
   "execution_count": 87,
   "metadata": {},
   "outputs": [],
   "source": [
    "GENERATOR_PROMPT = \"\"\"You are a data generator. \n",
    "Your task is to generate 1 sample based on the information I will provide. \n",
    "The dataset you must generate is about phishing and legit websites. The columns are:\n",
    "\n",
    "id, NumDots, SubdomainLevel, PathLevel, UrlLength, NumDash, NumDashInHostname, AtSymbol, TildeSymbol, NumUnderscore, NumPercent, NumQueryComponents, NumAmpersand, NumHash, NumNumericChars, NoHttps, RandomString, IpAddress, DomainInSubdomains, DomainInPaths, HttpsInHostname, HostnameLength, PathLength, QueryLength, DoubleSlashInPath, NumSensitiveWords, EmbeddedBrandName, PctExtHyperlinks, PctExtResourceUrls, ExtFavicon, InsecureForms, RelativeFormAction, ExtFormAction, AbnormalFormAction, PctNullSelfRedirectHyperlinks, FrequentDomainNameMismatch, FakeLinkInStatusBar, RightClickDisabled, PopUpWindow, SubmitInfoToEmail, IframeOrFrame, MissingTitle, ImagesOnlyInForm, SubdomainLevelRT, UrlLengthRT, PctExtResourceUrlsRT, AbnormalExtFormActionR, ExtMetaScriptLinkRT, PctExtNullSelfRedirectHyperlinksRT, CLASS_LABEL\n",
    "\n",
    "Examples are:\n",
    "2, 3, 1, 3, 144, 0, 0, 0, 0, 2, 0, 2, 1, 0, 41, 1, 0, 0, 0, 0, 0, 17, 16, 103, 0, 1, 0, 0.0000000000, 0.0000000000, 0, 1, 0, 0, 0, 0.0000000000, 0, 0, 0, 0, 0, 0, 0, 0, 1, -1, 1, 1, 1, 1, 1\n",
    "6434, 3, 1, 1, 143, 10, 0, 0, 0, 0, 0, 0, 0, 0, 5, 1, 1, 0, 0, 1, 0, 42, 94, 0, 0, 0, 0, 0.1250000000, 0.2093023256, 0, 0, 0, 0, 0, 0.2000000000, 0, 0, 0, 0, 0, 0, 0, 0, 1, -1, 1, 1, 0, 0, 0\n",
    "\n",
    "You must respond with data only, without any introductory or explanatory text. \n",
    "The structure must be a dictionary-like format because I will use `ast.literal_eval` to parse the data you generate.\n",
    "\"\"\"\n",
    "\n",
    "def generator_node(state: AgentState):\n",
    "    messages = [\n",
    "        SystemMessage(content = GENERATOR_PROMPT),\n",
    "        HumanMessage(content=f\"These are the rules you must follow: {repr(expected_columns)}\")\n",
    "    ]\n",
    "    \n",
    "    response = model.invoke(messages)\n",
    "\n",
    "    return {\"risultati_generati\": ast.literal_eval(response.content)}"
   ]
  },
  {
   "cell_type": "code",
   "execution_count": 88,
   "metadata": {},
   "outputs": [],
   "source": [
    "def check_data_entry(data, expected_columns):\n",
    "    \"\"\"\n",
    "    Verifica i tipi di dato e i range di valori per un dizionario `data`.\n",
    "\n",
    "    :param data: Dizionario contenente i dati da verificare.\n",
    "    :param expected_columns: Dizionario che definisce i tipi e i range attesi per ogni colonna.\n",
    "    :return: Lista di problemi riscontrati.\n",
    "    \"\"\"\n",
    "    issues = []\n",
    "    \n",
    "    for column, details in expected_columns.items():\n",
    "        if column not in data:\n",
    "            issues.append({\n",
    "                \"Column\": column,\n",
    "                \"Issue\": \"Column Missing\",\n",
    "                \"Actual Value\": None,\n",
    "                \"Expected Type\": details[\"type\"]\n",
    "            })\n",
    "            continue\n",
    "        \n",
    "        value = data[column]\n",
    "        \n",
    "        if not isinstance(value, details[\"type\"]):\n",
    "            issues.append({\n",
    "                \"Column\": column,\n",
    "                \"Issue\": \"Type Mismatch\",\n",
    "                \"Actual Value\": type(value).__name__,\n",
    "                \"Expected Type\": details[\"type\"].__name__\n",
    "            })\n",
    "        \n",
    "        if details[\"min\"] is not None and value < details[\"min\"]:\n",
    "            issues.append({\n",
    "                \"Column\": column,\n",
    "                \"Issue\": \"Value Below Minimum\",\n",
    "                \"Actual Value\": value,\n",
    "                \"Expected Min\": details[\"min\"]\n",
    "            })\n",
    "            \n",
    "        if details[\"max\"] is not None and value > details[\"max\"]:\n",
    "            issues.append({\n",
    "                \"Column\": column,\n",
    "                \"Issue\": \"Value Above Maximum\",\n",
    "                \"Actual Value\": value,\n",
    "                \"Expected Max\": details[\"max\"]\n",
    "            })\n",
    "            \n",
    "    return issues\n",
    "\n",
    "def critique_node(state: AgentState):\n",
    "    critica = \"OK\"\n",
    "    data = state[\"risultati_generati\"]\n",
    "    issues = check_data_entry(data, expected_columns)\n",
    "    issues = False\n",
    "    if issues:\n",
    "        critica = \"Generated data values are not within the limits\"\n",
    "    else:\n",
    "        critica = \"OK\"\n",
    "        \n",
    "    return {\"critica\": critica}"
   ]
  },
  {
   "cell_type": "code",
   "execution_count": 89,
   "metadata": {},
   "outputs": [],
   "source": [
    "def should_continue(state: AgentState):\n",
    "    if state[\"critica\"] == \"OK\":\n",
    "        return True\n",
    "    \n",
    "    if state[\"revision_number\"] > state[\"max_revisions\"] or state[\"critica\"] != \"OK\":\n",
    "        return False # torna al nodo di generazione"
   ]
  },
  {
   "cell_type": "code",
   "execution_count": 3,
   "metadata": {},
   "outputs": [
    {
     "ename": "NameError",
     "evalue": "name 'StateGraph' is not defined",
     "output_type": "error",
     "traceback": [
      "\u001b[0;31m---------------------------------------------------------------------------\u001b[0m",
      "\u001b[0;31mNameError\u001b[0m                                 Traceback (most recent call last)",
      "Cell \u001b[0;32mIn[3], line 1\u001b[0m\n\u001b[0;32m----> 1\u001b[0m builder \u001b[38;5;241m=\u001b[39m \u001b[43mStateGraph\u001b[49m(AgentState)\n\u001b[1;32m      3\u001b[0m builder\u001b[38;5;241m.\u001b[39madd_node(\u001b[38;5;124m\"\u001b[39m\u001b[38;5;124mgenerator_node\u001b[39m\u001b[38;5;124m\"\u001b[39m, generator_node)\n\u001b[1;32m      4\u001b[0m builder\u001b[38;5;241m.\u001b[39madd_node(\u001b[38;5;124m\"\u001b[39m\u001b[38;5;124mcritique_node\u001b[39m\u001b[38;5;124m\"\u001b[39m, critique_node)\n",
      "\u001b[0;31mNameError\u001b[0m: name 'StateGraph' is not defined"
     ]
    }
   ],
   "source": [
    "builder = StateGraph(AgentState)\n",
    "\n",
    "builder.add_node(\"generator_node\", generator_node)\n",
    "builder.add_node(\"critique_node\", critique_node)\n",
    "builder.add_edge(\"generator_node\", \"critique_node\")\n",
    "builder.add_conditional_edges(\"critique_node\", should_continue, {True: END, False: \"generator_node\"})\n",
    "\n",
    "builder.set_entry_point(\"generator_node\")\n",
    "\n",
    "graph = builder.compile()"
   ]
  },
  {
   "cell_type": "code",
   "execution_count": 2,
   "metadata": {},
   "outputs": [
    {
     "ename": "NameError",
     "evalue": "name 'graph' is not defined",
     "output_type": "error",
     "traceback": [
      "\u001b[0;31m---------------------------------------------------------------------------\u001b[0m",
      "\u001b[0;31mNameError\u001b[0m                                 Traceback (most recent call last)",
      "Cell \u001b[0;32mIn[2], line 3\u001b[0m\n\u001b[1;32m      1\u001b[0m \u001b[38;5;28;01mfrom\u001b[39;00m\u001b[38;5;250m \u001b[39m\u001b[38;5;21;01mIPython\u001b[39;00m\u001b[38;5;21;01m.\u001b[39;00m\u001b[38;5;21;01mdisplay\u001b[39;00m\u001b[38;5;250m \u001b[39m\u001b[38;5;28;01mimport\u001b[39;00m Image\n\u001b[0;32m----> 3\u001b[0m Image(\u001b[43mgraph\u001b[49m\u001b[38;5;241m.\u001b[39mget_graph()\u001b[38;5;241m.\u001b[39mdraw_png())\n",
      "\u001b[0;31mNameError\u001b[0m: name 'graph' is not defined"
     ]
    }
   ],
   "source": [
    "from IPython.display import Image\n",
    "\n",
    "Image(graph.get_graph().draw_png())"
   ]
  },
  {
   "cell_type": "code",
   "execution_count": 1,
   "metadata": {},
   "outputs": [
    {
     "ename": "NameError",
     "evalue": "name 'graph' is not defined",
     "output_type": "error",
     "traceback": [
      "\u001b[0;31m---------------------------------------------------------------------------\u001b[0m",
      "\u001b[0;31mNameError\u001b[0m                                 Traceback (most recent call last)",
      "Cell \u001b[0;32mIn[1], line 2\u001b[0m\n\u001b[1;32m      1\u001b[0m \u001b[38;5;66;03m# Genera il grafo in formato PNG e lo salva come file\u001b[39;00m\n\u001b[0;32m----> 2\u001b[0m \u001b[43mgraph\u001b[49m\u001b[38;5;241m.\u001b[39mget_graph()\u001b[38;5;241m.\u001b[39mdraw(\u001b[38;5;124m\"\u001b[39m\u001b[38;5;124mgrafo.png\u001b[39m\u001b[38;5;124m\"\u001b[39m, \u001b[38;5;28mformat\u001b[39m\u001b[38;5;241m=\u001b[39m\u001b[38;5;124m\"\u001b[39m\u001b[38;5;124mpng\u001b[39m\u001b[38;5;124m\"\u001b[39m)\n\u001b[1;32m      4\u001b[0m \u001b[38;5;66;03m# Mostra l'immagine salvata\u001b[39;00m\n\u001b[1;32m      5\u001b[0m Image(\u001b[38;5;124m\"\u001b[39m\u001b[38;5;124mgrafo.png\u001b[39m\u001b[38;5;124m\"\u001b[39m)\n",
      "\u001b[0;31mNameError\u001b[0m: name 'graph' is not defined"
     ]
    }
   ],
   "source": [
    "# Genera il grafo in formato PNG e lo salva come file\n",
    "graph.get_graph().draw(\"grafo.png\", format=\"png\")\n",
    "\n",
    "# Mostra l'immagine salvata\n",
    "Image(\"grafo.png\")"
   ]
  },
  {
   "cell_type": "code",
   "execution_count": null,
   "metadata": {},
   "outputs": [],
   "source": [
    "import pandas as pd\n",
    "\n",
    "risultati = []\n",
    "\n",
    "for j in range(10):\n",
    "    for i in range(1000):\n",
    "        print(f\"\"\"elemento: {i}\"\"\")\n",
    "        try:\n",
    "            response = graph.invoke(\n",
    "                {\"critica\": \"\",\n",
    "                \"max_revisions\": 4,\n",
    "                \"revision_number\": 0}\n",
    "            )\n",
    "        except Exception as e:\n",
    "            print(\"eccezione\")    \n",
    "            \n",
    "        risultati.append(None if not response[\"risultati_generati\"] else response[\"risultati_generati\"])\n",
    "        \n",
    "    df = pd.DataFrame()\n",
    "\n",
    "    for r in risultati:\n",
    "        temp_df = pd.DataFrame([r])\n",
    "        \n",
    "        df = pd.concat([df, temp_df], ignore_index=True)\n",
    "    \n",
    "df.to_csv(\"../data/dataset.csv\", index=False)"
   ]
  },
  {
   "cell_type": "markdown",
   "metadata": {},
   "source": [
    "## Controllo dei duplicati"
   ]
  },
  {
   "cell_type": "code",
   "execution_count": 155,
   "metadata": {},
   "outputs": [
    {
     "data": {
      "text/plain": [
       "0"
      ]
     },
     "execution_count": 155,
     "metadata": {},
     "output_type": "execute_result"
    }
   ],
   "source": [
    "df = pd.read_csv(\"../data/dataset.csv\")\n",
    "duplicates = df[df.duplicated()]\n",
    "\n",
    "duplicates.shape[0]"
   ]
  },
  {
   "cell_type": "code",
   "execution_count": 154,
   "metadata": {},
   "outputs": [
    {
     "data": {
      "text/plain": [
       "0"
      ]
     },
     "execution_count": 154,
     "metadata": {},
     "output_type": "execute_result"
    }
   ],
   "source": [
    "duplicates.size"
   ]
  }
 ],
 "metadata": {
  "kernelspec": {
   "display_name": ".venv",
   "language": "python",
   "name": "python3"
  },
  "language_info": {
   "codemirror_mode": {
    "name": "ipython",
    "version": 3
   },
   "file_extension": ".py",
   "mimetype": "text/x-python",
   "name": "python",
   "nbconvert_exporter": "python",
   "pygments_lexer": "ipython3",
   "version": "3.11.11"
  }
 },
 "nbformat": 4,
 "nbformat_minor": 2
}
