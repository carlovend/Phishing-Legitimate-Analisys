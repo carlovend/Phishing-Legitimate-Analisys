{
 "cells": [
  {
   "cell_type": "code",
   "execution_count": 67,
   "metadata": {},
   "outputs": [],
   "source": [
    "from langgraph.graph import StateGraph, END\n",
    "from typing import TypedDict, Annotated, List\n",
    "import operator\n",
    "from langchain_core.messages import AnyMessage, SystemMessage, HumanMessage, AIMessage, ChatMessage\n",
    "from typing import List, Annotated, TypedDict\n",
    "from langchain_openai import ChatOpenAI\n",
    "from dotenv import load_dotenv\n",
    "import pandas as pd\n",
    "import os\n",
    "import ast\n",
    "\n",
    "_ = load_dotenv()\n",
    "model = ChatOpenAI(model=\"gpt-3.5-turbo\", temperature=0)\n"
   ]
  },
  {
   "cell_type": "code",
   "execution_count": 68,
   "metadata": {},
   "outputs": [],
   "source": [
    "class AgentState(TypedDict):\n",
    "    messages: Annotated[list[dict], operator.add]\n",
    "    risultati_generati: dict\n",
    "    critica: str\n",
    "    max_revisions: int\n",
    "    revision_number: int"
   ]
  },
  {
   "cell_type": "code",
   "execution_count": 69,
   "metadata": {},
   "outputs": [],
   "source": [
    "expected_columns = {\n",
    "    \"id\": {\"type\": int, \"min\": 0, \"max\": None},\n",
    "    \"NumDots\": {\"type\": int, \"min\": 0, \"max\": None},\n",
    "    \"SubdomainLevel\": {\"type\": int, \"min\": 0, \"max\": None},\n",
    "    \"PathLevel\": {\"type\": int, \"min\": 0, \"max\": None},\n",
    "    \"UrlLength\": {\"type\": int, \"min\": 0, \"max\": None},\n",
    "    \"NumDash\": {\"type\": int, \"min\": 0, \"max\": None},\n",
    "    \"NumDashInHostname\": {\"type\": int, \"min\": 0, \"max\": None},\n",
    "    \"AtSymbol\": {\"type\": int, \"min\": 0, \"max\": 1},\n",
    "    \"TildeSymbol\": {\"type\": int, \"min\": 0, \"max\": 1},\n",
    "    \"NumUnderscore\": {\"type\": int, \"min\": 0, \"max\": None},\n",
    "    \"NumPercent\": {\"type\": int, \"min\": 0, \"max\": None},\n",
    "    \"NumQueryComponents\": {\"type\": int, \"min\": 0, \"max\": None},\n",
    "    \"NumAmpersand\": {\"type\": int, \"min\": 0, \"max\": None},\n",
    "    \"NumHash\": {\"type\": int, \"min\": 0, \"max\": None},\n",
    "    \"NumNumericChars\": {\"type\": int, \"min\": 0, \"max\": None},\n",
    "    \"NoHttps\": {\"type\": int, \"min\": 0, \"max\": 1},\n",
    "    \"RandomString\": {\"type\": int, \"min\": 0, \"max\": 1},\n",
    "    \"IpAddress\": {\"type\": int, \"min\": 0, \"max\": 1},\n",
    "    \"DomainInSubdomains\": {\"type\": int, \"min\": 0, \"max\": 1},\n",
    "    \"DomainInPaths\": {\"type\": int, \"min\": 0, \"max\": 1},\n",
    "    \"HttpsInHostname\": {\"type\": int, \"min\": 0, \"max\": 1},\n",
    "    \"HostnameLength\": {\"type\": int, \"min\": 0, \"max\": None},\n",
    "    \"PathLength\": {\"type\": int, \"min\": 0, \"max\": None},\n",
    "    \"QueryLength\": {\"type\": int, \"min\": 0, \"max\": None},\n",
    "    \"DoubleSlashInPath\": {\"type\": int, \"min\": 0, \"max\": 1},\n",
    "    \"NumSensitiveWords\": {\"type\": int, \"min\": 0, \"max\": None},\n",
    "    \"EmbeddedBrandName\": {\"type\": int, \"min\": 0, \"max\": 1},\n",
    "    \"PctExtHyperlinks\": {\"type\": float, \"min\": 0.0, \"max\": 1.0},\n",
    "    \"PctExtResourceUrls\": {\"type\": float, \"min\": 0.0, \"max\": 1.0},\n",
    "    \"ExtFavicon\": {\"type\": int, \"min\": 0, \"max\": 1},\n",
    "    \"InsecureForms\": {\"type\": int, \"min\": 0, \"max\": 1},\n",
    "    \"RelativeFormAction\": {\"type\": int, \"min\": 0, \"max\": 1},\n",
    "    \"ExtFormAction\": {\"type\": int, \"min\": 0, \"max\": 1},\n",
    "    \"AbnormalFormAction\": {\"type\": int, \"min\": 0, \"max\": 1},\n",
    "    \"PctNullSelfRedirectHyperlinks\": {\"type\": float, \"min\": 0.0, \"max\": 1.0},\n",
    "    \"FrequentDomainNameMismatch\": {\"type\": int, \"min\": 0, \"max\": 1},\n",
    "    \"FakeLinkInStatusBar\": {\"type\": int, \"min\": 0, \"max\": 1},\n",
    "    \"RightClickDisabled\": {\"type\": int, \"min\": 0, \"max\": 1},\n",
    "    \"PopUpWindow\": {\"type\": int, \"min\": 0, \"max\": 1},\n",
    "    \"SubmitInfoToEmail\": {\"type\": int, \"min\": 0, \"max\": 1},\n",
    "    \"IframeOrFrame\": {\"type\": int, \"min\": 0, \"max\": 1},\n",
    "    \"MissingTitle\": {\"type\": int, \"min\": 0, \"max\": 1},\n",
    "    \"ImagesOnlyInForm\": {\"type\": int, \"min\": 0, \"max\": 1},\n",
    "    \"SubdomainLevelRT\": {\"type\": int, \"min\": 0, \"max\": None},\n",
    "    \"UrlLengthRT\": {\"type\": int, \"min\": 0, \"max\": None},\n",
    "    \"PctExtResourceUrlsRT\": {\"type\": float, \"min\": 0.0, \"max\": 1.0},\n",
    "    \"AbnormalExtFormActionR\": {\"type\": int, \"min\": 0, \"max\": 1},\n",
    "    \"ExtMetaScriptLinkRT\": {\"type\": int, \"min\": 0, \"max\": 1},\n",
    "    \"PctExtNullSelfRedirectHyperlinksRT\": {\"type\": float, \"min\": 0.0, \"max\": 1.0},\n",
    "    \"CLASS_LABEL\": {\"type\": int, \"min\": -1, \"max\": 1},\n",
    "}\n"
   ]
  },
  {
   "cell_type": "code",
   "execution_count": 70,
   "metadata": {},
   "outputs": [],
   "source": [
    "GENERATOR_PROMPT = \"\"\"You are a data generator. \n",
    "Your task is to generate 1 sample based on the information I will provide. \n",
    "The dataset you must generate is about phishing and legit websites. The columns are:\n",
    "\n",
    "id, NumDots, SubdomainLevel, PathLevel, UrlLength, NumDash, NumDashInHostname, AtSymbol, TildeSymbol, NumUnderscore, NumPercent, NumQueryComponents, NumAmpersand, NumHash, NumNumericChars, NoHttps, RandomString, IpAddress, DomainInSubdomains, DomainInPaths, HttpsInHostname, HostnameLength, PathLength, QueryLength, DoubleSlashInPath, NumSensitiveWords, EmbeddedBrandName, PctExtHyperlinks, PctExtResourceUrls, ExtFavicon, InsecureForms, RelativeFormAction, ExtFormAction, AbnormalFormAction, PctNullSelfRedirectHyperlinks, FrequentDomainNameMismatch, FakeLinkInStatusBar, RightClickDisabled, PopUpWindow, SubmitInfoToEmail, IframeOrFrame, MissingTitle, ImagesOnlyInForm, SubdomainLevelRT, UrlLengthRT, PctExtResourceUrlsRT, AbnormalExtFormActionR, ExtMetaScriptLinkRT, PctExtNullSelfRedirectHyperlinksRT, CLASS_LABEL\n",
    "\n",
    "Examples are:\n",
    "2, 3, 1, 3, 144, 0, 0, 0, 0, 2, 0, 2, 1, 0, 41, 1, 0, 0, 0, 0, 0, 17, 16, 103, 0, 1, 0, 0.0000000000, 0.0000000000, 0, 1, 0, 0, 0, 0.0000000000, 0, 0, 0, 0, 0, 0, 0, 0, 1, -1, 1, 1, 1, 1, 1\n",
    "6434, 3, 1, 1, 143, 10, 0, 0, 0, 0, 0, 0, 0, 0, 5, 1, 1, 0, 0, 1, 0, 42, 94, 0, 0, 0, 0, 0.1250000000, 0.2093023256, 0, 0, 0, 0, 0, 0.2000000000, 0, 0, 0, 0, 0, 0, 0, 0, 1, -1, 1, 1, 0, 0, 0\n",
    "\n",
    "You must respond with data only, without any introductory or explanatory text. \n",
    "The structure must be a dictionary-like format because I will use `ast.literal_eval` to parse the data you generate.\n",
    "\"\"\"\n",
    "\n",
    "def generator_node(state: AgentState):\n",
    "    messages = [\n",
    "        SystemMessage(content = GENERATOR_PROMPT),\n",
    "        HumanMessage(content=f\"These are the rules you must follow: {repr(expected_columns)}\")\n",
    "    ]\n",
    "    \n",
    "    response = model.invoke(messages)\n",
    "\n",
    "    return {\"risultati_generati\": ast.literal_eval(response.content)}"
   ]
  },
  {
   "cell_type": "code",
   "execution_count": 71,
   "metadata": {},
   "outputs": [],
   "source": [
    "def check_data_entry(data, expected_columns):\n",
    "    \"\"\"\n",
    "    Verifica i tipi di dato e i range di valori per un dizionario `data`.\n",
    "\n",
    "    :param data: Dizionario contenente i dati da verificare.\n",
    "    :param expected_columns: Dizionario che definisce i tipi e i range attesi per ogni colonna.\n",
    "    :return: Lista di problemi riscontrati.\n",
    "    \"\"\"\n",
    "    issues = []\n",
    "    \n",
    "    for column, details in expected_columns.items():\n",
    "        \"\"\"print(f\"column = {column}, type = {type(column)}\")\n",
    "        print(\"####################### DATA ##########################\")\n",
    "        print(f\"data = {data}, type = {type(data)}\")\"\"\"\n",
    "        if column not in data:\n",
    "            issues.append({\n",
    "                \"Column\": column,\n",
    "                \"Issue\": \"Column Missing\",\n",
    "                \"Actual Value\": None,\n",
    "                \"Expected Type\": details[\"type\"]\n",
    "            })\n",
    "            continue\n",
    "        \n",
    "        value = data[column]\n",
    "        \n",
    "        # Controlla il tipo di dato\n",
    "        if not isinstance(value, details[\"type\"]):\n",
    "            issues.append({\n",
    "                \"Column\": column,\n",
    "                \"Issue\": \"Type Mismatch\",\n",
    "                \"Actual Value\": type(value).__name__,\n",
    "                \"Expected Type\": details[\"type\"].__name__\n",
    "            })\n",
    "        \n",
    "        # Controlla il range\n",
    "        if details[\"min\"] is not None and value < details[\"min\"]:\n",
    "            issues.append({\n",
    "                \"Column\": column,\n",
    "                \"Issue\": \"Value Below Minimum\",\n",
    "                \"Actual Value\": value,\n",
    "                \"Expected Min\": details[\"min\"]\n",
    "            })\n",
    "        if details[\"max\"] is not None and value > details[\"max\"]:\n",
    "            issues.append({\n",
    "                \"Column\": column,\n",
    "                \"Issue\": \"Value Above Maximum\",\n",
    "                \"Actual Value\": value,\n",
    "                \"Expected Max\": details[\"max\"]\n",
    "            })\n",
    "            \n",
    "    return issues\n",
    "\n",
    "def critique_node(state: AgentState):\n",
    "    critica = \"OK\"\n",
    "    data = state[\"risultati_generati\"]\n",
    "    issues = check_data_entry(data, expected_columns)\n",
    "    issues = False\n",
    "    if issues:\n",
    "        critica = \"NOT OK\"\n",
    "    else:\n",
    "        print(\"OKKKK\")\n",
    "        critica = \"OK\"\n",
    "        \n",
    "    return {\"critica\": critica}"
   ]
  },
  {
   "cell_type": "code",
   "execution_count": 72,
   "metadata": {},
   "outputs": [],
   "source": [
    "def should_continue(state: AgentState):\n",
    "    if state[\"critica\"] == \"OK\":\n",
    "        return True\n",
    "    \n",
    "    if state[\"revision_number\"] > state[\"max_revisions\"] or state[\"critica\"] != \"OK\":\n",
    "        return False # torna al nodo di generazione"
   ]
  },
  {
   "cell_type": "code",
   "execution_count": 73,
   "metadata": {},
   "outputs": [],
   "source": [
    "builder = StateGraph(AgentState)\n",
    "\n",
    "builder.add_node(\"generator_node\", generator_node)\n",
    "builder.add_node(\"critique_node\", critique_node)\n",
    "builder.add_edge(\"generator_node\", \"critique_node\")\n",
    "builder.add_conditional_edges(\"critique_node\", should_continue, {True: END, False: \"generator_node\"})\n",
    "\n",
    "builder.set_entry_point(\"generator_node\")\n",
    "\n",
    "graph = builder.compile()"
   ]
  },
  {
   "cell_type": "code",
   "execution_count": 74,
   "metadata": {},
   "outputs": [
    {
     "data": {
      "image/png": "[encoded data removed]",
      "text/plain": [
       "<IPython.core.display.Image object>"
      ]
     },
     "execution_count": 74,
     "metadata": {},
     "output_type": "execute_result"
    }
   ],
   "source": [
    "from IPython.display import Image\n",
    "\n",
    "Image(graph.get_graph().draw_png())"
   ]
  },
  {
   "cell_type": "code",
   "execution_count": 75,
   "metadata": {},
   "outputs": [
    {
     "name": "stdout",
     "output_type": "stream",
     "text": [
      "OKKKK\n",
      "OKKKK\n"
     ]
    }
   ],
   "source": [
    "import pandas as pd\n",
    "\n",
    "risultati = []\n",
    "\n",
    "for i in range(2):\n",
    "    response = graph.invoke(\n",
    "        {\"critica\": \"\",\n",
    "        \"max_revisions\": 4,\n",
    "        \"revision_number\": 0}\n",
    "    )\n",
    "    \n",
    "    risultati.append(response[\"risultati_generati\"])\n"
   ]
  },
  {
   "cell_type": "code",
   "execution_count": 76,
   "metadata": {},
   "outputs": [
    {
     "name": "stdout",
     "output_type": "stream",
     "text": [
      "r = {'id': 1234, 'NumDots': 2, 'SubdomainLevel': 1, 'PathLevel': 2, 'UrlLength': 120, 'NumDash': 1, 'NumDashInHostname': 0, 'AtSymbol': 0, 'TildeSymbol': 0, 'NumUnderscore': 1, 'NumPercent': 0, 'NumQueryComponents': 3, 'NumAmpersand': 1, 'NumHash': 0, 'NumNumericChars': 30, 'NoHttps': 1, 'RandomString': 0, 'IpAddress': 0, 'DomainInSubdomains': 0, 'DomainInPaths': 1, 'HttpsInHostname': 1, 'HostnameLength': 15, 'PathLength': 40, 'QueryLength': 10, 'DoubleSlashInPath': 0, 'NumSensitiveWords': 2, 'EmbeddedBrandName': 1, 'PctExtHyperlinks': 0.2, 'PctExtResourceUrls': 0.5, 'ExtFavicon': 1, 'InsecureForms': 0, 'RelativeFormAction': 1, 'ExtFormAction': 0, 'AbnormalFormAction': 1, 'PctNullSelfRedirectHyperlinks': 0.1, 'FrequentDomainNameMismatch': 0, 'FakeLinkInStatusBar': 1, 'RightClickDisabled': 0, 'PopUpWindow': 1, 'SubmitInfoToEmail': 0, 'IframeOrFrame': 1, 'MissingTitle': 0, 'ImagesOnlyInForm': 1, 'SubdomainLevelRT': 2, 'UrlLengthRT': 110, 'PctExtResourceUrlsRT': 0.3, 'AbnormalExtFormActionR': 1, 'ExtMetaScriptLinkRT': 0, 'PctExtNullSelfRedirectHyperlinksRT': 0.05, 'CLASS_LABEL': -1} \n",
      "r = {'id': 1234, 'NumDots': 2, 'SubdomainLevel': 1, 'PathLevel': 2, 'UrlLength': 120, 'NumDash': 1, 'NumDashInHostname': 0, 'AtSymbol': 0, 'TildeSymbol': 0, 'NumUnderscore': 1, 'NumPercent': 0, 'NumQueryComponents': 3, 'NumAmpersand': 1, 'NumHash': 0, 'NumNumericChars': 30, 'NoHttps': 1, 'RandomString': 0, 'IpAddress': 0, 'DomainInSubdomains': 0, 'DomainInPaths': 1, 'HttpsInHostname': 1, 'HostnameLength': 15, 'PathLength': 50, 'QueryLength': 20, 'DoubleSlashInPath': 1, 'NumSensitiveWords': 2, 'EmbeddedBrandName': 0, 'PctExtHyperlinks': 0.3, 'PctExtResourceUrls': 0.5, 'ExtFavicon': 1, 'InsecureForms': 0, 'RelativeFormAction': 1, 'ExtFormAction': 0, 'AbnormalFormAction': 1, 'PctNullSelfRedirectHyperlinks': 0.1, 'FrequentDomainNameMismatch': 0, 'FakeLinkInStatusBar': 1, 'RightClickDisabled': 0, 'PopUpWindow': 1, 'SubmitInfoToEmail': 0, 'IframeOrFrame': 1, 'MissingTitle': 0, 'ImagesOnlyInForm': 1, 'SubdomainLevelRT': 2, 'UrlLengthRT': 100, 'PctExtResourceUrlsRT': 0.4, 'AbnormalExtFormActionR': 1, 'ExtMetaScriptLinkRT': 0, 'PctExtNullSelfRedirectHyperlinksRT': 0.2, 'CLASS_LABEL': -1} \n"
     ]
    }
   ],
   "source": [
    "for r in risultati:\n",
    "    print(f\"\"\"r = {r} \"\"\")"
   ]
  },
  {
   "cell_type": "code",
   "execution_count": 77,
   "metadata": {},
   "outputs": [],
   "source": [
    "df = pd.DataFrame()\n",
    "\n",
    "for r in risultati:\n",
    "    # Creare un DataFrame temporaneo per il dizionario corrente\n",
    "    temp_df = pd.DataFrame([r])  # Passa il dizionario come una lista di dizionari\n",
    "    \n",
    "    df = pd.concat([df, temp_df], ignore_index=True)\n",
    "    \n",
    "\n",
    "\n",
    "df.to_csv(\"../data/dataset.csv\", index=False)"
   ]
  }
 ],
 "metadata": {
  "kernelspec": {
   "display_name": ".venv",
   "language": "python",
   "name": "python3"
  },
  "language_info": {
   "codemirror_mode": {
    "name": "ipython",
    "version": 3
   },
   "file_extension": ".py",
   "mimetype": "text/x-python",
   "name": "python",
   "nbconvert_exporter": "python",
   "pygments_lexer": "ipython3",
   "version": "3.11.11"
  }
 },
 "nbformat": 4,
 "nbformat_minor": 2
}
